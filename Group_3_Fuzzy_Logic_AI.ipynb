{
  "nbformat": 4,
  "nbformat_minor": 0,
  "metadata": {
    "colab": {
      "name": "Group 3_Fuzzy Logic AI.ipynb",
      "provenance": [],
      "collapsed_sections": [],
      "toc_visible": true
    },
    "kernelspec": {
      "name": "python3",
      "display_name": "Python 3"
    },
    "language_info": {
      "name": "python"
    }
  },
  "cells": [
    {
      "cell_type": "markdown",
      "metadata": {
        "id": "u6ISu7iCP3du"
      },
      "source": [
        "# **Fuzzy Logic - Pengantar Kecerdasan Buatan - Group 03**\n",
        "\n",
        "1.   Faiz Rofi Hencya\n",
        "2.   Muhammad Avtara Khrisna\n",
        "3.   Muhammad Ali Fikri\n",
        "\n",
        "\n"
      ]
    },
    {
      "cell_type": "markdown",
      "metadata": {
        "id": "7vsh8WHj9CHz"
      },
      "source": [
        "## **Linguistic Variables**\n",
        "\n",
        "\n",
        "### **Input Linguistic**\n",
        "Kualitas Pelayanan [0 - 100]:\n",
        "*   Bagus\n",
        "*   Standar\n",
        "*   Jelek\n",
        "\n",
        "Kualitas Makanan [0 - 10]:\n",
        "*   Enak\n",
        "*   Lumayan\n",
        "*   Tidak enak\n",
        "\n",
        "### **Output Linguistic**\n",
        "\n",
        "*   Direkomendasikan\n",
        "*   Rata-rata\n",
        "*   Tidak Direkomendasi\n",
        "\n"
      ]
    },
    {
      "cell_type": "code",
      "metadata": {
        "id": "OjFvT5uS6-Mo"
      },
      "source": [
        "import pandas as pd\n",
        "import numpy as np\n",
        "import matplotlib.pyplot as plt"
      ],
      "execution_count": 602,
      "outputs": []
    },
    {
      "cell_type": "markdown",
      "metadata": {
        "id": "rE0XaJftQS08"
      },
      "source": [
        "## **Membership Functions**"
      ]
    },
    {
      "cell_type": "code",
      "metadata": {
        "id": "MP_blGRv7x2Z"
      },
      "source": [
        "#fungsi keanggotaan sigmoid naik\n",
        "def maximum(x, a, b, c):\n",
        "  if x <= a:\n",
        "    return 0\n",
        "  if x > a and x <= b:\n",
        "    return 2*((x-a)/(c-a)*(x-a)/(c-a))\n",
        "  if x > b and x < c:\n",
        "    return (1 - (2*((x-a)/(c-a)*(x-a)/(c-a))))\n",
        "  if x >= c:\n",
        "    return 1\n",
        "\n",
        "#fungsi keanggotaan sigmoid turun\n",
        "def minimum(x, a, b, c):\n",
        "   if x <= a:\n",
        "    return 1\n",
        "   if x > a and x <= b:\n",
        "    return (1 - (2*((x-a)/(c-a)*(x-a)/(c-a))))\n",
        "   if x > b and x < c:\n",
        "    return 2*((x-a)/(c-a)*(x-a)/(c-a))\n",
        "   if x >= c:\n",
        "    return 0\n",
        "\n",
        "#fungsi keanggotaan phi\n",
        "def average(x, c, b):\n",
        "  if x <= c:\n",
        "    return minimum(x,(c-b),(c - (b/2)),c)\n",
        "  if x > c:\n",
        "    return (1 - (maximum(x,c,(c+(b/2)),(c+b))))\n",
        "\n",
        "#mendeklarasi minimum pelayanan\n",
        "def min_pelayanan(x):\n",
        "  s_min_a = 40\n",
        "  s_min_b = 20\n",
        "  s_min_c = 10\n",
        "  return minimum(x, s_min_a, s_min_b, s_min_c)\n",
        "\n",
        "#mendeklarasi minimum pelayanan\n",
        "def avg_pelayanan(x):\n",
        "  s_avg_b = 90\n",
        "  s_avg_c = 40\n",
        "  return average(x, s_avg_c, s_avg_b)\n",
        "\n",
        "#mendeklarasi maximum pelayanan\n",
        "def max_pelayanan(x):\n",
        "  s_max_a = 90\n",
        "  s_max_b = 65\n",
        "  s_max_c = 50\n",
        "  return maximum(x, s_max_a, s_max_b,s_max_c)\n",
        "\n",
        "#mendeklarasi minimum makanan\n",
        "def min_makanan(x):\n",
        "  f_min_a = 5\n",
        "  f_min_b = 3.5\n",
        "  f_min_c = 0 \n",
        "  return minimum(x, f_min_a, f_min_b,f_min_c)\n",
        "\n",
        "#mendeklarasi rata-rata pelayanan\n",
        "def avg_makanan(x):\n",
        "  f_avg_b = 7.5\n",
        "  f_avg_c = 4.5\n",
        "  return average(x, f_avg_c, f_avg_b)\n",
        "\n",
        "#mendeklarasi rata-rata makanan\n",
        "def max_makanan(x):\n",
        "  f_max_a = 9\n",
        "  f_max_b = 7.5\n",
        "  f_max_c = 6\n",
        "  return maximum(x, f_max_a, f_max_b,f_max_c)"
      ],
      "execution_count": 603,
      "outputs": []
    },
    {
      "cell_type": "markdown",
      "metadata": {
        "id": "k4wOk4w0Y2PO"
      },
      "source": [
        "## **Service Quality Membership Function**"
      ]
    },
    {
      "cell_type": "code",
      "metadata": {
        "colab": {
          "base_uri": "https://localhost:8080/",
          "height": 281
        },
        "id": "JjGJFyCUOdL6",
        "outputId": "e60e1f66-2f32-450f-d455-cc2ed38931a1"
      },
      "source": [
        "#membuat vektor baris berisi n titik yang terpisah merata secara linear antara x1 dan x2. Jarak antara dua titik sebesar (x2-x1)/(n-1).\n",
        "s_x = np.linspace(0, 100, 100)\n",
        "#membuat plot dari data yang sudah di generate\n",
        "plt.plot(s_x, [min_pelayanan(x) for x in s_x], label=\"Jelek\")\n",
        "plt.plot(s_x, [avg_pelayanan(x) for x in s_x], label=\"Standar\")\n",
        "plt.plot(s_x, [max_pelayanan(x) for x in s_x], label=\"Bagus\")\n",
        "plt.title(\"Service Quality Membership Function\")\n",
        "plt.legend()\n",
        "plt.show()"
      ],
      "execution_count": 604,
      "outputs": [
        {
          "output_type": "display_data",
          "data": {
            "image/png": "[encoded data removed]",
            "text/plain": [
              "<Figure size 432x288 with 1 Axes>"
            ]
          },
          "metadata": {
            "tags": [],
            "needs_background": "light"
          }
        }
      ]
    },
    {
      "cell_type": "markdown",
      "metadata": {
        "id": "iKQy3cWwY9s_"
      },
      "source": [
        "## **Food Quality Membership Function**"
      ]
    },
    {
      "cell_type": "code",
      "metadata": {
        "colab": {
          "base_uri": "https://localhost:8080/",
          "height": 281
        },
        "id": "EGYphqrWV4Bs",
        "outputId": "622bd99e-7414-49db-838a-512135763d6a"
      },
      "source": [
        "#membuat vektor baris berisi n titik yang terpisah merata secara linear antara x1 dan x2. Jarak antara dua titik sebesar (x2-x1)/(n-1).\n",
        "f_x = np.linspace(0, 10, 100)\n",
        "#membuat plot dari data yang sudah di generate\n",
        "plt.plot(f_x, [min_makanan(x) for x in f_x], label=\"Tidak Enak\")\n",
        "plt.plot(f_x, [avg_makanan(x) for x in f_x], label=\"Lumayan\")\n",
        "plt.plot(f_x, [max_makanan(x) for x in f_x], label=\"Enak\")\n",
        "plt.title(\"Food Quality Membership Function\")\n",
        "plt.legend()\n",
        "plt.show()"
      ],
      "execution_count": 605,
      "outputs": [
        {
          "output_type": "display_data",
          "data": {
            "image/png": "[encoded data removed]",
            "text/plain": [
              "<Figure size 432x288 with 1 Axes>"
            ]
          },
          "metadata": {
            "tags": [],
            "needs_background": "light"
          }
        }
      ]
    },
    {
      "cell_type": "markdown",
      "metadata": {
        "id": "JW7dteqslQ0K"
      },
      "source": [
        "## **Output Membership Function**"
      ]
    },
    {
      "cell_type": "code",
      "metadata": {
        "colab": {
          "base_uri": "https://localhost:8080/",
          "height": 281
        },
        "id": "oqcxo_xXlSew",
        "outputId": "ba5f71dc-b259-4bee-bd2c-d3b7c6808144"
      },
      "source": [
        "plt.plot([50, 50], [0, 1], label=\"Tidak Direkomendasikan\")\n",
        "plt.plot([70, 70], [0, 1], label=\"Rata-rata\")\n",
        "plt.plot([90, 90], [0, 1], label=\"Direkomendasikan\")\n",
        "plt.xlim(0, 105)\n",
        "plt.title(\"Output Membership Function\")\n",
        "plt.legend()\n",
        "plt.show()"
      ],
      "execution_count": 611,
      "outputs": [
        {
          "output_type": "display_data",
          "data": {
            "image/png": "[encoded data removed]",
            "text/plain": [
              "<Figure size 432x288 with 1 Axes>"
            ]
          },
          "metadata": {
            "tags": [],
            "needs_background": "light"
          }
        }
      ]
    },
    {
      "cell_type": "markdown",
      "metadata": {
        "id": "ubdbuQ7jDwxM"
      },
      "source": [
        "## **Fuzzification**"
      ]
    },
    {
      "cell_type": "code",
      "metadata": {
        "id": "VpquNYx0ZVJd"
      },
      "source": [
        "def fuzzification(data, linguistic):\n",
        "  fuzz_data = []\n",
        "  for item in data:\n",
        "    fuzz_item = {}\n",
        "    for key in linguistic:\n",
        "      fuzz_item[key] = linguistic[key](item)\n",
        "    fuzz_data.append(fuzz_item)\n",
        "  return fuzz_data"
      ],
      "execution_count": 607,
      "outputs": []
    },
    {
      "cell_type": "markdown",
      "metadata": {
        "id": "1uDQX8qQyJ4f"
      },
      "source": [
        "## **Fuzzy Rules**\n",
        "\n",
        "| service | food | score |\n",
        "|---------|------| ------|\n",
        "| Bagus | Enak | Direkomendasikan |\n",
        "| Bagus | Lumayan | Direkomendasikan |\n",
        "| Bagus | Tidak Enak | Tidak Recommended |\n",
        "| Standar | Enak | Direkomendasikan |\n",
        "| Standar | Lumayan | Rata-rata |\n",
        "| Standar | Tidak Enak | Tidak Direkomendasikan |\n",
        "| Jelek | Enak | Rata-rata |\n",
        "| Jelek | Lumayan | Tidak Direkomendasikan |\n",
        "| Jelek | Tidak Enak | Tidak Direkomendasikan |"
      ]
    },
    {
      "cell_type": "markdown",
      "metadata": {
        "id": "Ix_72uFEZKKU"
      },
      "source": [
        "## **Inference**"
      ]
    },
    {
      "cell_type": "code",
      "metadata": {
        "id": "dCS02AQXk0MW"
      },
      "source": [
        "def inference(data, fuzzy_rules, linguistic_output):\n",
        "  fuz = []\n",
        "  for items in zip(*data):\n",
        "    fuz_all = []\n",
        "    for rule in fuzzy_rules:\n",
        "      fuz_all.append({\n",
        "          \"label\" : rule[\"label\"],\n",
        "          \"score\" : min([items[i][x] for i, x in enumerate(rule[\"rule\"])])\n",
        "      })\n",
        "    fuz.append(fuz_all)\n",
        "    \n",
        "  score = []\n",
        "  for items in fuz:\n",
        "    out_obj = {}\n",
        "    for label in linguistic_output: \n",
        "      out_obj[label] = max(item[\"score\"] for item in items if item[\"label\"] == label)\n",
        "    score.append(out_obj)\n",
        "\n",
        "  return score"
      ],
      "execution_count": 608,
      "outputs": []
    },
    {
      "cell_type": "markdown",
      "metadata": {
        "id": "xLUGCKdq3uOu"
      },
      "source": [
        "##**Defuzzification**"
      ]
    },
    {
      "cell_type": "code",
      "metadata": {
        "id": "CYF8ImBY34Qz"
      },
      "source": [
        "def defuzzification(item, linguistic_output):\n",
        "  return ((item[REKOMENDASI] * 100) + (item[RATA_RATA] * 70) + (item[TIDAK_DIREKOMENDASIKAN] * 50)) / (item[REKOMENDASI] + item[RATA_RATA] + item[TIDAK_DIREKOMENDASIKAN])"
      ],
      "execution_count": 609,
      "outputs": []
    },
    {
      "cell_type": "markdown",
      "metadata": {
        "id": "TuZ2GapZ07or"
      },
      "source": [
        "## **Main Program**"
      ]
    },
    {
      "cell_type": "code",
      "metadata": {
        "colab": {
          "base_uri": "https://localhost:8080/"
        },
        "id": "rU9oNBrIi28T",
        "outputId": "2de9517c-37d6-4088-e80b-9913fb6941f0"
      },
      "source": [
        "if __name__ == \"__main__\":\n",
        "    #Importing data\n",
        "    data = pd.read_excel(\"https://github.com/Hencya/restoran-task2-AI/blob/main/restoran.xlsx?raw=true\")\n",
        "\n",
        "    # Constant, Rules, and Variables \n",
        "\n",
        "    BAGUS = \"BAGUS\"\n",
        "    STANDAR = \"STANDAR\"\n",
        "    JELEK = \"JELEK\"\n",
        "\n",
        "    ENAK = \"ENAK\"\n",
        "    LUMAYAN = \"LUMAYAN\"\n",
        "    TIDAK_ENAK = \"TIDAK_ENAK\"\n",
        "  \n",
        "    REKOMENDASI = \"DIREKOMENDASIKAN\"\n",
        "    RATA_RATA = \"RATA-RATA\"\n",
        "    TIDAK_DIREKOMENDASIKAN = \"TIDAK_DIREKOMENDASIKAN\"\n",
        "    \n",
        "    linguistic_service = {\n",
        "      BAGUS: max_pelayanan,\n",
        "      STANDAR: avg_pelayanan,\n",
        "      JELEK: min_pelayanan\n",
        "    }\n",
        "    \n",
        "    linguistic_food = {\n",
        "      ENAK: max_makanan,\n",
        "      LUMAYAN: avg_makanan,\n",
        "      TIDAK_ENAK: min_makanan\n",
        "    }\n",
        "\n",
        "    linguistic_output = (REKOMENDASI, RATA_RATA, TIDAK_DIREKOMENDASIKAN)\n",
        "\n",
        "    linguistic  = {\n",
        "        \"pelayanan\": linguistic_service,\n",
        "        \"makanan\": linguistic_food\n",
        "    }\n",
        "\n",
        "    fuzzy_rules = [\n",
        "      { \"label\": REKOMENDASI, \"rule\": (BAGUS, ENAK) },\n",
        "      { \"label\": REKOMENDASI, \"rule\": (BAGUS, LUMAYAN) },\n",
        "      { \"label\": TIDAK_DIREKOMENDASIKAN, \"rule\" : (BAGUS, TIDAK_ENAK) },\n",
        "      { \"label\": REKOMENDASI, \"rule\" : (STANDAR, ENAK) },\n",
        "      { \"label\": RATA_RATA, \"rule\" : (STANDAR, LUMAYAN) },\n",
        "      { \"label\": TIDAK_DIREKOMENDASIKAN, \"rule\" : (STANDAR, TIDAK_ENAK) },\n",
        "      { \"label\": RATA_RATA, \"rule\" : (JELEK, ENAK) },\n",
        "      { \"label\": TIDAK_DIREKOMENDASIKAN, \"rule\" : (JELEK, LUMAYAN) },\n",
        "      { \"label\": TIDAK_DIREKOMENDASIKAN, \"rule\" : (JELEK, TIDAK_ENAK) },\n",
        "    ]\n",
        "\n",
        "    # Main Program\n",
        "    data_temp = data.drop([\"id\"], axis = 1)\n",
        "    \n",
        "    combined_arr = [fuzzification(data[column], linguistic[column]) for column in data_temp]\n",
        "    score = inference(combined_arr, fuzzy_rules, linguistic_output)\n",
        "    \n",
        "    data[\"score\"] = [defuzzification(item, linguistic_output) for item in score]\n",
        "    data = data.sort_values(by=[\"score\"], ascending=False)\n",
        "\n",
        "    print(data[:10])\n",
        "\n",
        "    # Export to Excel\n",
        "    data = data.drop([\"pelayanan\", \"makanan\", \"score\"], axis=1)\n",
        "    data[0:10].to_excel(\"peringkat.xls\", index=False, header=False)"
      ],
      "execution_count": 610,
      "outputs": [
        {
          "output_type": "stream",
          "text": [
            "    id  pelayanan  makanan      score\n",
            "41  42         94       10  87.441860\n",
            "50  51         48       10  85.000000\n",
            "68  69         86       10  85.000000\n",
            "24  25         61       10  85.000000\n",
            "23  24        100        9  85.000000\n",
            "53  54         64       10  85.000000\n",
            "19  20         49       10  85.000000\n",
            "5    6         59       10  85.000000\n",
            "33  34         93        4  73.712531\n",
            "51  52         94        3  73.676471\n"
          ],
          "name": "stdout"
        }
      ]
    },
    {
      "cell_type": "code",
      "metadata": {
        "id": "F5SWNcnstwuv"
      },
      "source": [
        ""
      ],
      "execution_count": 610,
      "outputs": []
    }
  ]
}